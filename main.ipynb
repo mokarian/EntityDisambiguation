{
 "cells": [
  {
   "cell_type": "markdown",
   "metadata": {},
   "source": [
    "### Create a Search Index and insert documents in the index:\n",
    "- Search index will be created from the [index-schema.json](resource/index-schema.json) file\n",
    "- documents are people names sourcing from [names.csv](resources/names.csv)"
   ]
  },
  {
   "cell_type": "code",
   "execution_count": null,
   "metadata": {
    "collapsed": true
   },
   "outputs": [],
   "source": [
    "from azuresearchclient import AzureSearchClient\n",
    "\n",
    "AZURE = AzureSearchClient()\n",
    "# Create Search Index\n",
    "AZURE.create_index(\"test-index\")\n",
    "# insert documents into the search index (corrected spelled names)\n",
    "AZURE.insert_documents(\"test-index\")"
   ]
  },
  {
   "cell_type": "markdown",
   "metadata": {},
   "source": [
    "### Query the search index by providing misspelled names and calculate the performance\n",
    "- Create a set of all analyzers(fields)\n",
    "- load misspelled names from [names-misspelled.csv](resources/names-misspelled.csv)\n",
    "- load the expected names/results from [names-expected.csv](resources/names-expected.csv)\n",
    "- for all elements in teh subset:\n",
    "- send a query to the search index providing the missepelled name and target field\n",
    "    - Mark the reponse (e.g. TP, TN, FP, FN)\n",
    "    - Calculate the Precision, Recall and F1 score\n",
    "- statistics will be stored in [generated](generated) directory"
   ]
  },
  {
   "cell_type": "code",
   "execution_count": 5,
   "metadata": {},
   "outputs": [],
   "source": [
    "from constants import Constants\n",
    "from statistics import Statistics\n",
    "\n",
    "STATS = Statistics()\n",
    "# target fields to be searched\n",
    "FIELDS_SET = Constants.name_search_fields\n",
    "all_subsets = STATS.utils.get_subsets(FIELDS_SET)\n",
    "# list of correct names (already uploaded to the search index)\n",
    "correct_list = STATS.utils.read_csv(\"names-expected.csv\")\n",
    "# list of misspelled names\n",
    "misspelled_list = STATS.utils.read_csv(\"names-misspelled.csv\")\n",
    "# making queries (with misspelled names) and measure the result\n",
    "STATS.calculate_statistics(correct_list, misspelled_list, all_subsets, AZURE, True)"
   ]
  },
  {
   "cell_type": "markdown",
   "metadata": {},
   "source": [
    "### Plot the F1 score for each Analyzer"
   ]
  },
  {
   "cell_type": "code",
   "execution_count": 1,
   "metadata": {},
   "outputs": [
    {
     "data": {
      "image/png": "[encoded data removed]",
      "text/plain": [
       "<Figure size 432x288 with 1 Axes>"
      ]
     },
     "metadata": {
      "needs_background": "light"
     },
     "output_type": "display_data"
    }
   ],
   "source": [
    "from statistics import Statistics\n",
    "\n",
    "STATS = Statistics()\n",
    "SCORES = STATS.generate_f1()\n",
    "STATS.create_plot(SCORES)"
   ]
  },
  {
   "cell_type": "markdown",
   "metadata": {},
   "source": [
    "### Experiment Result\n",
    "\n",
    "Now consider that there is a name in our search index : **Tom O'halleran**\n",
    "\n",
    "Our speech recognition or OCR extracted this text with an incorrect spelleing: **Tom O Halleran**\n",
    "\n",
    "We are experimenting to disambiguate this name with two set ups:\n",
    "\n",
    "- Default analyzer setup (**standard_lucene**)\n",
    "\n",
    "- Analyzer with best performance set up (**camelcase,url_email,text_microsoft**)"
   ]
  },
  {
   "cell_type": "markdown",
   "metadata": {},
   "source": [
    "#### Default analyzer experiment"
   ]
  },
  {
   "cell_type": "code",
   "execution_count": 1,
   "metadata": {},
   "outputs": [
    {
     "name": "stdout",
     "output_type": "stream",
     "text": [
      "{'queryType': 'full', 'search': 'Tom O Halleran', 'searchFields': 'standard_lucene'}\n",
      "<Response [200]>\n"
     ]
    },
    {
     "data": {
      "text/plain": [
       "'Tom Canada'"
      ]
     },
     "execution_count": 1,
     "metadata": {},
     "output_type": "execute_result"
    }
   ],
   "source": [
    "from azuresearchclient import AzureSearchClient\n",
    "\n",
    "AZURE = AzureSearchClient()\n",
    "AZURE.make_search(\"Tom O Halleran\", [\"standard_lucene\"])"
   ]
  },
  {
   "cell_type": "markdown",
   "metadata": {},
   "source": [
    "#### Analyzer with best performance experiment"
   ]
  },
  {
   "cell_type": "code",
   "execution_count": 2,
   "metadata": {},
   "outputs": [
    {
     "name": "stdout",
     "output_type": "stream",
     "text": [
      "{'queryType': 'full', 'search': 'Tom O Halleran', 'searchFields': 'camelcase,url_email,text_microsoft'}\n",
      "<Response [200]>\n"
     ]
    },
    {
     "data": {
      "text/plain": [
       "\"Tom O'halleran\""
      ]
     },
     "execution_count": 2,
     "metadata": {},
     "output_type": "execute_result"
    }
   ],
   "source": [
    "AZURE = AzureSearchClient()\n",
    "AZURE.make_search(\"Tom O Halleran\", [\"camelcase\", \"url_email\", \"text_microsoft\"])"
   ]
  },
  {
   "cell_type": "markdown",
   "metadata": {},
   "source": [
    "We can see that default setting was not successful to retrieve the most relevant result."
   ]
  }
 ],
 "metadata": {
  "kernelspec": {
   "display_name": "Python 3",
   "language": "python",
   "name": "python3"
  },
  "language_info": {
   "codemirror_mode": {
    "name": "ipython",
    "version": 3
   },
   "file_extension": ".py",
   "mimetype": "text/x-python",
   "name": "python",
   "nbconvert_exporter": "python",
   "pygments_lexer": "ipython3",
   "version": "3.8.5"
  }
 },
 "nbformat": 4,
 "nbformat_minor": 4
}
